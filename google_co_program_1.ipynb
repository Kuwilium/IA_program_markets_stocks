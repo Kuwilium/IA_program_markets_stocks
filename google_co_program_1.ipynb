{
  "nbformat": 4,
  "nbformat_minor": 0,
  "metadata": {
    "colab": {
      "name": "google_co_program_1.ipynb",
      "provenance": [],
      "collapsed_sections": [],
      "authorship_tag": "ABX9TyOeUYn2tAeFuTodmkTQvHQZ",
      "include_colab_link": true
    },
    "kernelspec": {
      "name": "python3",
      "display_name": "Python 3"
    },
    "language_info": {
      "name": "python"
    }
  },
  "cells": [
    {
      "cell_type": "markdown",
      "metadata": {
        "id": "view-in-github",
        "colab_type": "text"
      },
      "source": [
        "<a href=\"https://colab.research.google.com/github/Kuwilium/IA_program_markets_stocks/blob/main/google_co_program_1.ipynb\" target=\"_parent\"><img src=\"https://colab.research.google.com/assets/colab-badge.svg\" alt=\"Open In Colab\"/></a>"
      ]
    },
    {
      "cell_type": "markdown",
      "metadata": {
        "id": "SXpLpz7xLC0b"
      },
      "source": [
        "This program predicts stock prices by using machine learning models"
      ]
    },
    {
      "cell_type": "code",
      "metadata": {
        "id": "5C8RD2QAYFo5"
      },
      "source": [
        "# Import the librairies\n",
        "import quandl\n",
        "import numpy as np\n",
        "from sklearn.linear_model import LinearRegression\n",
        "from sklearn.svm import SVR\n",
        "from sklearn.model_selection import train_test_split\n",
        " \n"
      ],
      "execution_count": 5,
      "outputs": []
    },
    {
      "cell_type": "code",
      "metadata": {
        "colab": {
          "base_uri": "https://localhost:8080/"
        },
        "id": "ouqRH-BEMk5i",
        "outputId": "39a7ad4e-c375-4e98-b691-f0fffffe9c2d"
      },
      "source": [
        "# Get the stock data\n",
        "df = quandl.get(\"WIKI/FB\")\n",
        "\n",
        "# Take a look of the data\n",
        "print(df.head())"
      ],
      "execution_count": 6,
      "outputs": [
        {
          "output_type": "stream",
          "text": [
            "             Open   High    Low  ...  Adj. Low  Adj. Close  Adj. Volume\n",
            "Date                             ...                                   \n",
            "2012-05-18  42.05  45.00  38.00  ...     38.00     38.2318  573576400.0\n",
            "2012-05-21  36.53  36.66  33.00  ...     33.00     34.0300  168192700.0\n",
            "2012-05-22  32.61  33.59  30.94  ...     30.94     31.0000  101786600.0\n",
            "2012-05-23  31.37  32.50  31.36  ...     31.36     32.0000   73600000.0\n",
            "2012-05-24  32.95  33.21  31.77  ...     31.77     33.0300   50237200.0\n",
            "\n",
            "[5 rows x 12 columns]\n"
          ],
          "name": "stdout"
        }
      ]
    },
    {
      "cell_type": "code",
      "metadata": {
        "colab": {
          "base_uri": "https://localhost:8080/"
        },
        "id": "gbeg8cQ3NQKt",
        "outputId": "47e2d4c6-00ee-4382-d91c-f177fdab5a05"
      },
      "source": [
        "# Get the adjusted data\n",
        "df = df[['Adj. Close']]\n",
        "\n",
        "# Take a look of the new data\n",
        "print(df.head())"
      ],
      "execution_count": 7,
      "outputs": [
        {
          "output_type": "stream",
          "text": [
            "            Adj. Close\n",
            "Date                  \n",
            "2012-05-18     38.2318\n",
            "2012-05-21     34.0300\n",
            "2012-05-22     31.0000\n",
            "2012-05-23     32.0000\n",
            "2012-05-24     33.0300\n"
          ],
          "name": "stdout"
        }
      ]
    },
    {
      "cell_type": "code",
      "metadata": {
        "colab": {
          "base_uri": "https://localhost:8080/"
        },
        "id": "45nDmXBnOt83",
        "outputId": "d491081b-3426-415c-cea9-ba533e70370a"
      },
      "source": [
        "# A variable to predict 'n' days out into the future\n",
        "forecast_out = 30\n",
        "\n",
        "# Create another column (the target or dependent variable) shifted 'n' units up\n",
        "df['Predictions'] = df[['Adj. Close']].shift(-forecast_out)\n",
        "\n",
        "# print it\n",
        "print(df.tail())"
      ],
      "execution_count": 10,
      "outputs": [
        {
          "output_type": "stream",
          "text": [
            "            Adj. Close  Predictions\n",
            "Date                               \n",
            "2018-03-21      169.39          NaN\n",
            "2018-03-22      164.89          NaN\n",
            "2018-03-23      159.39          NaN\n",
            "2018-03-26      160.06          NaN\n",
            "2018-03-27      152.19          NaN\n"
          ],
          "name": "stdout"
        }
      ]
    },
    {
      "cell_type": "code",
      "metadata": {
        "colab": {
          "base_uri": "https://localhost:8080/"
        },
        "id": "3YPfyqrcSQ72",
        "outputId": "3a4d5c38-b038-45fd-a309-ed9e58343b4c"
      },
      "source": [
        "### Create the independente dataset (X) ###\n",
        "# Convert the dataframe to a numpy array\n",
        "X = np.array(df.drop(['Predictions'],1))\n",
        "# Remove the last 'n' rows\n",
        "X = X[:-forecast_out]\n",
        "print(X)"
      ],
      "execution_count": 12,
      "outputs": [
        {
          "output_type": "stream",
          "text": [
            "[[ 38.2318]\n",
            " [ 34.03  ]\n",
            " [ 31.    ]\n",
            " ...\n",
            " [171.5499]\n",
            " [175.98  ]\n",
            " [176.41  ]]\n"
          ],
          "name": "stdout"
        }
      ]
    },
    {
      "cell_type": "code",
      "metadata": {
        "colab": {
          "base_uri": "https://localhost:8080/"
        },
        "id": "Igf7RUcjTUe2",
        "outputId": "7e3d5258-3424-42cd-a09a-d8d5548635a9"
      },
      "source": [
        "### Create the dependete dataset (y) ###\n",
        "# Convert the dataframe to a numpy array (All of the values including the NaN's)\n",
        "y = np.array(df['Predictions'])\n",
        "# Get all of the y values except the last 'n' rows\n",
        "y = y[:-forecast_out]\n",
        "print(y) "
      ],
      "execution_count": 15,
      "outputs": [
        {
          "output_type": "stream",
          "text": [
            "[ 30.771  31.2    31.47  ... 159.39  160.06  152.19 ]\n"
          ],
          "name": "stdout"
        }
      ]
    },
    {
      "cell_type": "code",
      "metadata": {
        "id": "R0_Kh1nYWHH0"
      },
      "source": [
        "# Split the data to 80% training and 20% testing\n",
        "x_train, x_test, y_train, y_test = train_test_split(X, y, test_size=0.2)\n"
      ],
      "execution_count": 16,
      "outputs": []
    },
    {
      "cell_type": "code",
      "metadata": {
        "colab": {
          "base_uri": "https://localhost:8080/"
        },
        "id": "dVzsFw4nXNpA",
        "outputId": "4988bf88-3adb-4ce6-c3a2-efd91a072d05"
      },
      "source": [
        "# Create and train the Support Vector Machine (Regressor)\n",
        "svr_rbf = SVR(kernel='rbf', C=1e3, gamma=0.1)\n",
        "svr_rbf.fit(x_train, y_train)"
      ],
      "execution_count": 26,
      "outputs": [
        {
          "output_type": "execute_result",
          "data": {
            "text/plain": [
              "SVR(C=1000.0, cache_size=200, coef0=0.0, degree=3, epsilon=0.1, gamma=0.1,\n",
              "    kernel='rbf', max_iter=-1, shrinking=True, tol=0.001, verbose=False)"
            ]
          },
          "metadata": {
            "tags": []
          },
          "execution_count": 26
        }
      ]
    },
    {
      "cell_type": "code",
      "metadata": {
        "colab": {
          "base_uri": "https://localhost:8080/"
        },
        "id": "_yjBO3_taue-",
        "outputId": "105229ed-1d66-45a2-9ffa-1f0b86030be1"
      },
      "source": [
        "# Testing model : Score returns the coefficient of determination R^2 of the prediction\n",
        "# The best possible score is 1.0\n",
        "svm_confidence = svr_rbf.score(x_test, y_test)\n",
        "print(\"Svm confidence :\", svm_confidence)"
      ],
      "execution_count": 27,
      "outputs": [
        {
          "output_type": "stream",
          "text": [
            "Svm confidence : 0.9825012110829354\n"
          ],
          "name": "stdout"
        }
      ]
    },
    {
      "cell_type": "code",
      "metadata": {
        "colab": {
          "base_uri": "https://localhost:8080/"
        },
        "id": "knppJIcjd1ML",
        "outputId": "e0e6acab-4f1e-4603-c07b-af912fed7412"
      },
      "source": [
        "# Create and train the Linear Model\n",
        "lr = LinearRegression()\n",
        "\n",
        "# Train the model\n",
        "lr.fit(x_train, y_train)"
      ],
      "execution_count": 21,
      "outputs": [
        {
          "output_type": "execute_result",
          "data": {
            "text/plain": [
              "LinearRegression(copy_X=True, fit_intercept=True, n_jobs=None, normalize=False)"
            ]
          },
          "metadata": {
            "tags": []
          },
          "execution_count": 21
        }
      ]
    },
    {
      "cell_type": "code",
      "metadata": {
        "colab": {
          "base_uri": "https://localhost:8080/"
        },
        "id": "c1Jm7nGieHzs",
        "outputId": "0d1ef957-2ac7-4475-d4f9-24b400a210b2"
      },
      "source": [
        "# Testing model : Score returns the coefficient of determination R^2 of the prediction\n",
        "# The best possible score is 1.0\n",
        "lr_confidence = lr.score(x_test, y_test)\n",
        "print(\"Lr confidence :\", lr_confidence)"
      ],
      "execution_count": 22,
      "outputs": [
        {
          "output_type": "stream",
          "text": [
            "Lr confidence : 0.9806599176949018\n"
          ],
          "name": "stdout"
        }
      ]
    },
    {
      "cell_type": "code",
      "metadata": {
        "colab": {
          "base_uri": "https://localhost:8080/"
        },
        "id": "S7l42U_8fYVQ",
        "outputId": "68320699-84bf-461d-f956-2f0feab2fbee"
      },
      "source": [
        "# Set x_forecast equal to the last 30 rows original data set from Adj. Close column\n",
        "x_forecast = np.array(df.drop(['Predictions'],1))[-forecast_out:]\n",
        "print(x_forecast)"
      ],
      "execution_count": 24,
      "outputs": [
        {
          "output_type": "stream",
          "text": [
            "[[173.15]\n",
            " [179.52]\n",
            " [179.96]\n",
            " [177.36]\n",
            " [176.01]\n",
            " [177.91]\n",
            " [178.99]\n",
            " [183.29]\n",
            " [184.93]\n",
            " [181.46]\n",
            " [178.32]\n",
            " [175.94]\n",
            " [176.62]\n",
            " [180.4 ]\n",
            " [179.78]\n",
            " [183.71]\n",
            " [182.34]\n",
            " [185.23]\n",
            " [184.76]\n",
            " [181.88]\n",
            " [184.19]\n",
            " [183.86]\n",
            " [185.09]\n",
            " [172.56]\n",
            " [168.15]\n",
            " [169.39]\n",
            " [164.89]\n",
            " [159.39]\n",
            " [160.06]\n",
            " [152.19]]\n"
          ],
          "name": "stdout"
        }
      ]
    },
    {
      "cell_type": "code",
      "metadata": {
        "colab": {
          "base_uri": "https://localhost:8080/"
        },
        "id": "HgGnE8YGgsP7",
        "outputId": "1ef24762-63a1-4cb6-ae44-cbd5577408b7"
      },
      "source": [
        "# Print the Linear Regressor Model predictions for the next 'n' days\n",
        "lr_prediction = lr.predict(x_forecast)\n",
        "print(lr_prediction)\n",
        "\n",
        "# Print the Support Vector Regressor model predictions for the next 'n' days\n",
        "svm_prediction = svr_rbf.predict(x_forecast)\n",
        "print(svm_prediction)"
      ],
      "execution_count": 29,
      "outputs": [
        {
          "output_type": "stream",
          "text": [
            "[176.95138829 183.38748495 183.83205049 181.20507227 179.84106434\n",
            " 181.7607792  182.85198554 187.19660337 188.85362041 185.34761485\n",
            " 182.17503346 179.77033801 180.45739385 184.27661604 183.65018277\n",
            " 187.62096139 186.23674594 189.15673328 188.68185645 185.77197287\n",
            " 188.10594199 187.77251783 189.01528061 176.35526631 171.89950709\n",
            " 173.15237363 168.60568055 163.04861123 163.72556331 155.77390229]\n",
            "[179.41834049 181.37833878 182.4464017  178.74669649 174.95768608\n",
            " 179.74892268 180.63462358 180.95438731 178.16400904 186.72741587\n",
            " 180.15031125 174.82043117 176.61647483 183.85622949 181.95916067\n",
            " 178.94520215 185.64409845 179.14209428 177.76760119 186.72882044\n",
            " 177.59958615 178.391671   178.64891754 179.22263799 171.28833605\n",
            " 171.85589561 172.56381757 167.46669204 166.30092064 162.62336265]\n"
          ],
          "name": "stdout"
        }
      ]
    }
  ]
}